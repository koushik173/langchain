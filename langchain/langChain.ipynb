{
 "cells": [
  {
   "cell_type": "code",
   "execution_count": 4,
   "metadata": {},
   "outputs": [],
   "source": [
    "from secret_key import openai_key\n",
    "import os\n",
    "os.environ[\"OPENAI_API_KEY\"]=openai_key"
   ]
  },
  {
   "cell_type": "code",
   "execution_count": 6,
   "metadata": {},
   "outputs": [
    {
     "name": "stdout",
     "output_type": "stream",
     "text": [
      "\n",
      "\n",
      "Taste of Dhaka\n"
     ]
    }
   ],
   "source": [
    "from langchain.llms import OpenAI\n",
    "\n",
    "llm = OpenAI(temperature=0.6)\n",
    "name = llm(\"I want to open a restuarant for Bangladeshi food. Suggest a fency name for this.\")\n",
    "\n",
    "print(name)\n"
   ]
  },
  {
   "cell_type": "code",
   "execution_count": 8,
   "metadata": {},
   "outputs": [
    {
     "data": {
      "text/plain": [
       "'I want to open a restuarant for Dhaka food. Suggest a fency name for this.'"
      ]
     },
     "execution_count": 8,
     "metadata": {},
     "output_type": "execute_result"
    }
   ],
   "source": [
    "from langchain.prompts import PromptTemplate\n",
    "promt_temple_name = PromptTemplate(\n",
    "    input_variables= ['cuisine'],\n",
    "    template=\"I want to open a restuarant for {cuisine} food. Suggest a fency name for this.\"\n",
    ")\n",
    "promt_temple_name.format(cuisine=\"Dhaka\")"
   ]
  },
  {
   "cell_type": "code",
   "execution_count": 10,
   "metadata": {},
   "outputs": [
    {
     "data": {
      "text/plain": [
       "\"\\n\\nMaharaja's Palace Cuisine\""
      ]
     },
     "execution_count": 10,
     "metadata": {},
     "output_type": "execute_result"
    }
   ],
   "source": [
    "from langchain.chains import LLMChain\n",
    "chain = LLMChain(llm=llm, prompt=promt_temple_name)\n",
    "\n",
    "chain.run(\"Indian\")"
   ]
  },
  {
   "cell_type": "code",
   "execution_count": 17,
   "metadata": {},
   "outputs": [],
   "source": [
    "llm = OpenAI(temperature=0.7)\n",
    "promt_temple_name = PromptTemplate(\n",
    "    input_variables= ['cuisine'],\n",
    "    template=\"I want to open a restuarant for {cuisine} food. Suggest a fency name for this.\"\n",
    ")\n",
    "name_chain = LLMChain(llm=llm, prompt=promt_temple_name, output_key=\"restaurant_name\")\n",
    "\n",
    "promt_temple_name = PromptTemplate(\n",
    "    input_variables= ['restaurant_name'],\n",
    "    template=\"Suggest some menu items for {restaurant_name} food. Return it as a comma separated list.\"\n",
    ")\n",
    "food_items_chain = LLMChain(llm=llm, prompt=promt_temple_name, output_key=\"menu_items\")\n"
   ]
  },
  {
   "cell_type": "code",
   "execution_count": 18,
   "metadata": {},
   "outputs": [],
   "source": [
    "from langchain.chains import SequentialChain\n",
    "chain = SequentialChain(\n",
    "    chains = [name_chain, food_items_chain],\n",
    "    input_variables=['cuisine'],\n",
    "    output_variables=['restaurant_name', 'menu_items']\n",
    ")"
   ]
  },
  {
   "cell_type": "code",
   "execution_count": 19,
   "metadata": {},
   "outputs": [
    {
     "data": {
      "text/plain": [
       "{'cuisine': 'Bangladesh',\n",
       " 'restaurant_name': '\\n\\nBangladeshi Bites',\n",
       " 'menu_items': '\\n\\nPuri, Chicken Korma, Fish Curry, Aloo Gobi, Pulao, Chapati, Bara, Jilapi, Shondesh, Chana Dal, Bhorta, Bhuna Khichuri, Kochu Bata, Borhani.'}"
      ]
     },
     "execution_count": 19,
     "metadata": {},
     "output_type": "execute_result"
    }
   ],
   "source": [
    "chain('Bangladesh')"
   ]
  },
  {
   "cell_type": "code",
   "execution_count": null,
   "metadata": {},
   "outputs": [],
   "source": []
  }
 ],
 "metadata": {
  "kernelspec": {
   "display_name": "base",
   "language": "python",
   "name": "python3"
  },
  "language_info": {
   "codemirror_mode": {
    "name": "ipython",
    "version": 3
   },
   "file_extension": ".py",
   "mimetype": "text/x-python",
   "name": "python",
   "nbconvert_exporter": "python",
   "pygments_lexer": "ipython3",
   "version": "3.11.5"
  }
 },
 "nbformat": 4,
 "nbformat_minor": 2
}
